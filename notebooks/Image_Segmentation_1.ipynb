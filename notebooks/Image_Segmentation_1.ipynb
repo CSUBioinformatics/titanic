{
 "cells": [
  {
   "cell_type": "markdown",
   "metadata": {},
   "source": [
    "Image Analysis with Python Part II\n",
    "Created and Presented by Bryce Asay\n",
    "Date: 11/14/2018\n",
    "\n",
    "We are going to import opencv and make sure that we are using the correct version. This is followed by importing matplotlib for displaying the image in jupyter notebook and numpy for numerical calculations. "
   ]
  },
  {
   "cell_type": "code",
   "execution_count": 1,
   "metadata": {
    "scrolled": true
   },
   "outputs": [
    {
     "name": "stdout",
     "output_type": "stream",
     "text": [
      "3.4.3\n"
     ]
    }
   ],
   "source": [
    "import cv2 \n",
    "print(cv2.__version__)"
   ]
  },
  {
   "cell_type": "code",
   "execution_count": 2,
   "metadata": {},
   "outputs": [],
   "source": [
    "import matplotlib.pyplot as plt\n",
    "import numpy as np"
   ]
  },
  {
   "cell_type": "markdown",
   "metadata": {},
   "source": [
    "Next we are going to upload our image. Does it look like the original image we uploaded?"
   ]
  },
  {
   "cell_type": "code",
   "execution_count": 4,
   "metadata": {},
   "outputs": [
    {
     "data": {
      "image/png": "[encoded data removed]",
      "text/plain": [
       "<Figure size 432x288 with 1 Axes>"
      ]
     },
     "metadata": {},
     "output_type": "display_data"
    }
   ],
   "source": [
    "color = cv2.imread(\"color_experiment.png\")\n",
    "plt.imshow(color)\n",
    "plt.show()"
   ]
  },
  {
   "cell_type": "markdown",
   "metadata": {},
   "source": [
    "OpenCV uploads images in the BGR format. Make sure to always check your color formats before doing any type of analysis. Below we will convert the BGR image over to RGB. "
   ]
  },
  {
   "cell_type": "code",
   "execution_count": 5,
   "metadata": {},
   "outputs": [
    {
     "data": {
      "image/png": "[encoded data removed]",
      "text/plain": [
       "<Figure size 432x288 with 1 Axes>"
      ]
     },
     "metadata": {},
     "output_type": "display_data"
    }
   ],
   "source": [
    "color = cv2.cvtColor(color, cv2.COLOR_BGR2RGB)\n",
    "plt.imshow(color)\n",
    "plt.show()"
   ]
  },
  {
   "cell_type": "markdown",
   "metadata": {},
   "source": [
    "Next we will create a small program to determine the RGB, HSV, and X/Y cooridinates at a specific location on an image. I highly reccomend following Bucky Roberts (aka TheNewBoston) tutorial on GUI creation https://github.com/buckyroberts or https://www.youtube.com/watch?v=RJB1Ek2Ko_Y. "
   ]
  },
  {
   "cell_type": "code",
   "execution_count": 27,
   "metadata": {},
   "outputs": [
    {
     "name": "stdout",
     "output_type": "stream",
     "text": [
      "RGB : 236,0,0\n",
      "HSV :  [  0 255 236]\n",
      "X: 434 Y: 180\n"
     ]
    }
   ],
   "source": [
    "#Import our packages\n",
    "from tkinter import *\n",
    "import PIL.Image, PIL.ImageTk\n",
    "\n",
    "#Upload the image that will be visible and an accessible format for tkinter \n",
    "color_pillow = PIL.Image.open(\"color_experiment.png\")\n",
    "#Create an RGB and HSV reference images for our function \n",
    "color = cv2.cvtColor(cv2.imread(\"color_experiment.png\"),cv2.COLOR_BGR2RGB)\n",
    "hsv = cv2.cvtColor(color, cv2.COLOR_RGB2HSV)\n",
    "#Create the workspace where the image will go\n",
    "root = Tk()\n",
    "#upload the \n",
    "photo = PIL.ImageTk.PhotoImage(image = PIL.Image.fromarray(color))\n",
    "#Insert the image as a label into the root \n",
    "label = Label(root, image = photo)\n",
    "#since we have only one object we can randomly pack it in\n",
    "label.pack()\n",
    "\n",
    "#the function that will access our values\n",
    "def get_values(event):\n",
    "    x,y = event.x, event.y\n",
    "    r, g, b = color_pillow.getpixel((x, y))\n",
    "    print('RGB : '+'{},{},{}'.format(r,g,b))\n",
    "    print(\"HSV : \",hsv[y, x])\n",
    "    print(\"X:\",x,\"Y:\",y)\n",
    "#bind the function to a specific event, in this case we will bind it to the left mouse click\n",
    "root.bind(\"<Button 1>\",get_values)\n",
    "\n",
    "#necessary to keep the GUI open\n",
    "root.mainloop()\n"
   ]
  },
  {
   "cell_type": "markdown",
   "metadata": {},
   "source": []
  },
  {
   "cell_type": "markdown",
   "metadata": {},
   "source": [
    "The first segmentation that we will be doing is color segmentation, in case you didnt run the tkinter program lets reupload the image as an HSV."
   ]
  },
  {
   "cell_type": "code",
   "execution_count": 9,
   "metadata": {},
   "outputs": [],
   "source": [
    "hsv_color = cv2.cvtColor(color, cv2.COLOR_RGB2HSV)"
   ]
  },
  {
   "cell_type": "markdown",
   "metadata": {},
   "source": [
    "We can also calculate the HSV value from RGB meaning in our tkinter program we only have to have one refference image for our calculations (uses less memory). If you used the above tkinter program you should have seen that red RGB value is [236,0,0], lets convert that to HSV. You can also use color references with specific values to avoid having to determine from the image itself. "
   ]
  },
  {
   "cell_type": "code",
   "execution_count": 11,
   "metadata": {},
   "outputs": [
    {
     "name": "stdout",
     "output_type": "stream",
     "text": [
      "[[[ 30 255 255]]]\n"
     ]
    }
   ],
   "source": [
    "red = np.uint8([[[236,0,0 ]]])\n",
    "hsv_red = cv2.cvtColor(red,cv2.COLOR_BGR2HSV) \n",
    "print(hsv_red) "
   ]
  },
  {
   "cell_type": "markdown",
   "metadata": {},
   "source": [
    "To segment the image we first need to use the far left value for the Hue (color). Normally when I find the value I will do 10 below for the min and 10 above for the max. I set the Saturation and Values min generally to 50 and the max to 255. OpenCV calculates HSV differently than other programs so be careful when using reference values from outside sources. "
   ]
  },
  {
   "cell_type": "code",
   "execution_count": 12,
   "metadata": {},
   "outputs": [],
   "source": [
    "red_min = (0,50,50)\n",
    "red_max = (0,255,255)"
   ]
  },
  {
   "cell_type": "markdown",
   "metadata": {},
   "source": [
    "Next we will use the in range function to only find values that lie within the given values. "
   ]
  },
  {
   "cell_type": "code",
   "execution_count": 14,
   "metadata": {},
   "outputs": [],
   "source": [
    "mask = cv2.inRange(hsv_color, red_min, red_max)"
   ]
  },
  {
   "cell_type": "markdown",
   "metadata": {},
   "source": [
    "Next we will perform a bitwise algorthm to create a mask of the desired color and display the results. We should have only the red pixels left from the image. "
   ]
  },
  {
   "cell_type": "code",
   "execution_count": 15,
   "metadata": {},
   "outputs": [],
   "source": [
    "result = cv2.bitwise_and(color, color, mask=mask)"
   ]
  },
  {
   "cell_type": "code",
   "execution_count": 16,
   "metadata": {},
   "outputs": [
    {
     "data": {
      "image/png": "[encoded data removed]",
      "text/plain": [
       "<Figure size 432x288 with 2 Axes>"
      ]
     },
     "metadata": {},
     "output_type": "display_data"
    }
   ],
   "source": [
    "plt.subplot(1, 2, 1)\n",
    "plt.imshow(mask, cmap=\"gray\")\n",
    "plt.subplot(1, 2, 2)\n",
    "plt.imshow(result)\n",
    "plt.show()"
   ]
  },
  {
   "cell_type": "markdown",
   "metadata": {},
   "source": [
    "Next we are going to threshold and use the findContours function to count the number of objects and get their respective sizes. "
   ]
  },
  {
   "cell_type": "code",
   "execution_count": 30,
   "metadata": {},
   "outputs": [
    {
     "name": "stdout",
     "output_type": "stream",
     "text": [
      "Size:  402405.0\n",
      "Dots number: 1\n"
     ]
    }
   ],
   "source": [
    "gray_image = cv2.cvtColor(result, cv2.COLOR_BGR2GRAY)\n",
    "\n",
    "## threshold\n",
    "th, threshed = cv2.threshold(gray_image, 100, 255,cv2.THRESH_BINARY_INV|cv2.THRESH_OTSU)\n",
    "\n",
    "## findcontours\n",
    "_,cnts,_ = cv2.findContours(threshed, cv2.RETR_LIST, cv2.CHAIN_APPROX_SIMPLE)\n",
    "\n",
    "\n",
    "## filter by area (size of each object)\n",
    "s1= 100000   #smallest size\n",
    "s2 = 500000  #largest size\n",
    "xcnts = []\n",
    "for cnt in cnts:\n",
    "    if s1<cv2.contourArea(cnt) <s2:\n",
    "        xcnts.append(cnt)\n",
    "        print(\"Size: \",cv2.contourArea(cnt))\n",
    "print(\"Dots number: {}\".format(len(xcnts)))"
   ]
  },
  {
   "cell_type": "code",
   "execution_count": 19,
   "metadata": {},
   "outputs": [],
   "source": [
    "drawn_img = cv2.drawContours(gray_image, cnts, -1, (0,255,0),3)"
   ]
  },
  {
   "cell_type": "code",
   "execution_count": 22,
   "metadata": {},
   "outputs": [
    {
     "data": {
      "image/png": "[encoded data removed]",
      "text/plain": [
       "<Figure size 432x288 with 1 Axes>"
      ]
     },
     "metadata": {},
     "output_type": "display_data"
    }
   ],
   "source": [
    "plt.imshow(drawn_img)\n",
    "plt.show()"
   ]
  },
  {
   "cell_type": "markdown",
   "metadata": {},
   "source": [
    "Next, using the above code try to count the number of green bacteria from the provided image. You should have all the tools necessary to accomplish this. "
   ]
  },
  {
   "cell_type": "code",
   "execution_count": null,
   "metadata": {},
   "outputs": [],
   "source": []
  }
 ],
 "metadata": {
  "kernelspec": {
   "display_name": "Python 3",
   "language": "python",
   "name": "python3"
  },
  "language_info": {
   "codemirror_mode": {
    "name": "ipython",
    "version": 3
   },
   "file_extension": ".py",
   "mimetype": "text/x-python",
   "name": "python",
   "nbconvert_exporter": "python",
   "pygments_lexer": "ipython3",
   "version": "3.6.5"
  }
 },
 "nbformat": 4,
 "nbformat_minor": 2
}
